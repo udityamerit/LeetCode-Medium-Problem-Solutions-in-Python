{
 "cells": [
  {
   "cell_type": "code",
   "execution_count": null,
   "metadata": {},
   "outputs": [
    {
     "name": "stdout",
     "output_type": "stream",
     "text": [
      "16\n",
      "23\n",
      "26\n",
      "26\n"
     ]
    }
   ],
   "source": [
    "# question no 396 time complexity of O(n^2)\n",
    "\n",
    "nums = [4,3,2,6]\n",
    "n = []\n",
    "ans = 0\n",
    "def rev(arr, n):\n",
    "        arr.insert(0, arr[len(arr)-1])\n",
    "        arr.pop()\n",
    "        n = arr\n",
    "        return n\n",
    "        \n",
    "\n",
    "for i in range(len(nums)):\n",
    "        c = rev(nums, n)\n",
    "        d = 0\n",
    "        for i in range(len(c)):\n",
    "                d = d+(c[i]*i)\n",
    "                # print(d)\n",
    "        if ans<d:\n",
    "                ans = d\n",
    "                print(ans)\n",
    "print(ans)"
   ]
  },
  {
   "cell_type": "code",
   "execution_count": null,
   "metadata": {},
   "outputs": [
    {
     "name": "stdout",
     "output_type": "stream",
     "text": [
      "0 4\n",
      "1 3\n",
      "2 2\n",
      "3 6\n",
      "25\n",
      "16 15 24\n",
      "16\n",
      "23 15 8\n",
      "23\n",
      "26 15 12\n",
      "26\n"
     ]
    }
   ],
   "source": [
    "# Optimized solution of the question no  396 of time complexity O(n)\n",
    "nums = [4,3,2,6]\n",
    "n = len(nums)\n",
    "for i, num in enumerate(nums):\n",
    "        print(i, num)\n",
    "F = sum(i * num for i, num in enumerate(nums))\n",
    "print(F)\n",
    "total_sum = sum(nums)\n",
    "max_value = F\n",
    "for k in range(1, n):\n",
    "        F = F + total_sum - n * nums[n - k]\n",
    "        print(F, total_sum, n*nums[n - k])\n",
    "\n",
    "        print(F)\n",
    "        max_value = max(max_value, F)"
   ]
  },
  {
   "cell_type": "code",
   "execution_count": null,
   "metadata": {},
   "outputs": [
    {
     "name": "stdout",
     "output_type": "stream",
     "text": [
      "[1, 2, 3, 4, 5, 6]\n",
      "[2, 4, 6]\n",
      "[2, 4, 6]\n",
      "[4]\n",
      "[4]\n",
      "[4]\n"
     ]
    }
   ],
   "source": [
    "# question no 390\n",
    "n = 6\n",
    "arr = [i for i in range(1, n+1)]\n",
    "print(arr)\n",
    "n = []\n",
    "\n",
    "def rev(param, d, n):\n",
    "        if d%2==0:\n",
    "                param = [param[i] for i in range(len(param)) if i%2!=0]\n",
    "                                \n",
    "        else:\n",
    "                if len(param)%2==0:\n",
    "\n",
    "                        param = [param[i] for i in range(len(param )) if i%2==0]\n",
    "                else:\n",
    "                      param = [param[i] for i in range(len(param)) if i%2!=0]  \n",
    "        n = param\n",
    "        print(n)\n",
    "        return n\n",
    "# print(n)\n",
    "n = (rev(arr, 0, n))\n",
    "print(n)\n",
    "\n",
    "d = 1\n",
    "while len(n)!=1:\n",
    "        n = rev(n, d, n)\n",
    "        print(n)\n",
    "        d = d+1\n",
    "\n",
    "print(n)\n"
   ]
  },
  {
   "cell_type": "code",
   "execution_count": 7,
   "metadata": {},
   "outputs": [
    {
     "name": "stdout",
     "output_type": "stream",
     "text": [
      "['6', '4', '3', '4', '5', '4']\n",
      "643454\n"
     ]
    },
    {
     "data": {
      "text/plain": [
       "str"
      ]
     },
     "execution_count": 7,
     "metadata": {},
     "output_type": "execute_result"
    }
   ],
   "source": [
    "l = \"643454\"\n",
    "s = list(l)\n",
    "print(s)\n",
    "s = \"\".join(s)\n",
    "print(s)\n",
    "type(s)"
   ]
  },
  {
   "cell_type": "code",
   "execution_count": null,
   "metadata": {},
   "outputs": [],
   "source": []
  },
  {
   "cell_type": "code",
   "execution_count": null,
   "metadata": {},
   "outputs": [],
   "source": []
  }
 ],
 "metadata": {
  "kernelspec": {
   "display_name": "Python 3",
   "language": "python",
   "name": "python3"
  },
  "language_info": {
   "codemirror_mode": {
    "name": "ipython",
    "version": 3
   },
   "file_extension": ".py",
   "mimetype": "text/x-python",
   "name": "python",
   "nbconvert_exporter": "python",
   "pygments_lexer": "ipython3",
   "version": "3.12.8"
  }
 },
 "nbformat": 4,
 "nbformat_minor": 2
}
