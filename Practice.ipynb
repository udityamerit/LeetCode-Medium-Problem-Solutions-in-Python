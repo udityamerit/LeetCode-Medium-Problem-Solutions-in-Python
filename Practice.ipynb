{
 "cells": [
  {
   "cell_type": "code",
   "execution_count": 17,
   "metadata": {},
   "outputs": [
    {
     "name": "stdout",
     "output_type": "stream",
     "text": [
      "16\n",
      "23\n",
      "26\n",
      "26\n"
     ]
    }
   ],
   "source": [
    "# question no 396\n",
    "\n",
    "nums = [4,3,2,6]\n",
    "n = []\n",
    "ans = 0\n",
    "def rev(arr, n):\n",
    "        arr.insert(0, arr[len(arr)-1])\n",
    "        arr.pop()\n",
    "        n = arr\n",
    "        return n\n",
    "        \n",
    "\n",
    "for i in range(len(nums)):\n",
    "        c = rev(nums, n)\n",
    "        d = 0\n",
    "        for i in range(len(c)):\n",
    "                d = d+(c[i]*i)\n",
    "                # print(d)\n",
    "        if ans<d:\n",
    "                ans = d\n",
    "                print(ans)\n",
    "print(ans)"
   ]
  },
  {
   "cell_type": "code",
   "execution_count": 22,
   "metadata": {},
   "outputs": [
    {
     "name": "stdout",
     "output_type": "stream",
     "text": [
      "0 4\n",
      "1 3\n",
      "2 2\n",
      "3 6\n",
      "25\n",
      "16 15 24\n",
      "16\n",
      "23 15 8\n",
      "23\n",
      "26 15 12\n",
      "26\n"
     ]
    }
   ],
   "source": [
    "nums = [4,3,2,6]\n",
    "n = len(nums)\n",
    "for i, num in enumerate(nums):\n",
    "        print(i, num)\n",
    "F = sum(i * num for i, num in enumerate(nums))\n",
    "print(F)\n",
    "total_sum = sum(nums)\n",
    "max_value = F\n",
    "for k in range(1, n):\n",
    "        F = F + total_sum - n * nums[n - k]\n",
    "        print(F, total_sum, n*nums[n - k])\n",
    "\n",
    "        print(F)\n",
    "        max_value = max(max_value, F)"
   ]
  },
  {
   "cell_type": "code",
   "execution_count": null,
   "metadata": {},
   "outputs": [],
   "source": []
  },
  {
   "cell_type": "code",
   "execution_count": null,
   "metadata": {},
   "outputs": [],
   "source": []
  },
  {
   "cell_type": "code",
   "execution_count": null,
   "metadata": {},
   "outputs": [],
   "source": []
  },
  {
   "cell_type": "code",
   "execution_count": null,
   "metadata": {},
   "outputs": [],
   "source": []
  }
 ],
 "metadata": {
  "kernelspec": {
   "display_name": "Python 3",
   "language": "python",
   "name": "python3"
  },
  "language_info": {
   "codemirror_mode": {
    "name": "ipython",
    "version": 3
   },
   "file_extension": ".py",
   "mimetype": "text/x-python",
   "name": "python",
   "nbconvert_exporter": "python",
   "pygments_lexer": "ipython3",
   "version": "3.12.8"
  }
 },
 "nbformat": 4,
 "nbformat_minor": 2
}
